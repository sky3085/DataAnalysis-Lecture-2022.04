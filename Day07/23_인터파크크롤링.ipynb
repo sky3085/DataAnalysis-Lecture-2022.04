{
 "cells": [
  {
   "cell_type": "markdown",
   "metadata": {},
   "source": [
    "### 인터파크 베스트셀러"
   ]
  },
  {
   "cell_type": "code",
   "execution_count": 104,
   "metadata": {},
   "outputs": [],
   "source": [
    "import requests\n",
    "import pandas as pd\n",
    "from bs4 import BeautifulSoup\n",
    "import re"
   ]
  },
  {
   "cell_type": "code",
   "execution_count": 98,
   "metadata": {},
   "outputs": [
    {
     "data": {
      "text/plain": [
       "(15, bs4.element.ResultSet)"
      ]
     },
     "execution_count": 98,
     "metadata": {},
     "output_type": "execute_result"
    }
   ],
   "source": [
    "site = 'http://book.interpark.com'\n",
    "url='http://book.interpark.com/display/collectlist.do?_method=bestsellerHourNew&bookblockname=b_gnb&booklinkname=%BA%A3%BD%BA%C6%AE%C1%B8&bid1=w_bgnb&bid2=LiveRanking&bid3=main&bid4=001'\n",
    "req = requests.get(url)\n",
    "soup = BeautifulSoup(req.text, 'html.parser')\n",
    "lis = soup.select('.rankBestContentList > ol > li')\n",
    "len(lis), type(lis)"
   ]
  },
  {
   "cell_type": "code",
   "execution_count": 84,
   "metadata": {},
   "outputs": [
    {
     "data": {
      "text/plain": [
       "'/product/BookDisplay.do?_method=detail&sc.shopNo=0000400000&sc.prdNo=354595636&sc.saNo=003003001&bid1=Best_zone&bid2=LiveRanking&bid3=PRD&bid4=001'"
      ]
     },
     "execution_count": 84,
     "metadata": {},
     "output_type": "execute_result"
    }
   ],
   "source": [
    "li = lis[0]\n",
    "href = li.select_one('.coverImage').find('a')['href']\n",
    "href"
   ]
  },
  {
   "cell_type": "code",
   "execution_count": 85,
   "metadata": {},
   "outputs": [
    {
     "data": {
      "text/plain": [
       "'저주토끼'"
      ]
     },
     "execution_count": 85,
     "metadata": {},
     "output_type": "execute_result"
    }
   ],
   "source": [
    "title = li.select_one('.itemName').getText().strip()\n",
    "title"
   ]
  },
  {
   "cell_type": "code",
   "execution_count": 86,
   "metadata": {},
   "outputs": [
    {
     "data": {
      "text/plain": [
       "'정보라(정도경)'"
      ]
     },
     "execution_count": 86,
     "metadata": {},
     "output_type": "execute_result"
    }
   ],
   "source": [
    "author = li.select_one('.author').getText().strip()\n",
    "author"
   ]
  },
  {
   "cell_type": "code",
   "execution_count": 87,
   "metadata": {},
   "outputs": [
    {
     "data": {
      "text/plain": [
       "'아작'"
      ]
     },
     "execution_count": 87,
     "metadata": {},
     "output_type": "execute_result"
    }
   ],
   "source": [
    "company = li.select_one('.company').getText().strip()\n",
    "company"
   ]
  },
  {
   "cell_type": "code",
   "execution_count": 88,
   "metadata": {},
   "outputs": [
    {
     "data": {
      "text/plain": [
       "13320"
      ]
     },
     "execution_count": 88,
     "metadata": {},
     "output_type": "execute_result"
    }
   ],
   "source": [
    "price = li.select_one('.price > em').get_text().replace(',','')\n",
    "price = int(price)\n",
    "price"
   ]
  },
  {
   "cell_type": "code",
   "execution_count": 89,
   "metadata": {},
   "outputs": [
    {
     "data": {
      "text/plain": [
       "1"
      ]
     },
     "execution_count": 89,
     "metadata": {},
     "output_type": "execute_result"
    }
   ],
   "source": [
    "#rank = li.select_one('.rankBtn_ctrl').get_attribute_list('class')[1][-1]\n",
    "rank = li.select('.rankBtn_ctrl')\n",
    "rank_n = ''\n",
    "for r in rank:\n",
    "    rank_n += r.get_attribute_list('class')[1][-1]\n",
    "rank_n = int(rank_n)\n",
    "rank_n"
   ]
  },
  {
   "cell_type": "code",
   "execution_count": 99,
   "metadata": {},
   "outputs": [
    {
     "name": "stdout",
     "output_type": "stream",
     "text": [
      "http://book.interpark.com/product/BookDisplay.do?_method=detail&sc.shopNo=0000400000&sc.prdNo=354595636&sc.saNo=003003001&bid1=Best_zone&bid2=LiveRanking&bid3=PRD&bid4=001\n"
     ]
    }
   ],
   "source": [
    "url = site + href\n",
    "#print(url)\n",
    "res = requests.get(url)\n",
    "sub_soup = BeautifulSoup(res.text, 'html.parser')"
   ]
  },
  {
   "cell_type": "code",
   "execution_count": 101,
   "metadata": {},
   "outputs": [
    {
     "data": {
      "text/plain": [
       "5"
      ]
     },
     "execution_count": 101,
     "metadata": {},
     "output_type": "execute_result"
    }
   ],
   "source": [
    "sub_lis = sub_soup.select('.bInfo_txt > li')\n",
    "len(sub_lis)"
   ]
  },
  {
   "cell_type": "code",
   "execution_count": 102,
   "metadata": {},
   "outputs": [
    {
     "name": "stdout",
     "output_type": "stream",
     "text": [
      "저 : 정보라\n",
      "출판사 : 아작\n",
      "발행 : 2022년 04월 01일\n",
      "쪽수 : 328\n",
      "ISBN : 9791166686665\n"
     ]
    }
   ],
   "source": [
    "for li in sub_lis:\n",
    "    print(li.getText())"
   ]
  },
  {
   "cell_type": "code",
   "execution_count": 136,
   "metadata": {},
   "outputs": [
    {
     "name": "stdout",
     "output_type": "stream",
     "text": [
      "저 : 최태성\n",
      "출판사 : 이투스북\n",
      "발행 : 2021년 12월 21일\n",
      "쪽수 : 392\n",
      "쪽수 392\n",
      "ISBN : 9791138902823\n",
      "20211221 392 -\n"
     ]
    }
   ],
   "source": [
    "for li in sub_lis:\n",
    "    text = li.getText().strip()\n",
    "    print(text)\n",
    "    trans = '-'\n",
    "    if '발행 :' in text:\n",
    "        data = text.split(':')[1].strip()\n",
    "        data = re.sub('[^0-9]', '', data)\n",
    "        # print('date',data)\n",
    "    elif '쪽수 :' in text:\n",
    "        page = text.split(':')[1].strip()\n",
    "        print('쪽수',page)\n",
    "print(data, page, trans)#trans가 없는 경우가 있음"
   ]
  },
  {
   "cell_type": "markdown",
   "metadata": {},
   "source": [
    "- 모든 코드를 조합"
   ]
  },
  {
   "cell_type": "code",
   "execution_count": 137,
   "metadata": {},
   "outputs": [
    {
     "data": {
      "text/html": [
       "<div>\n",
       "<style scoped>\n",
       "    .dataframe tbody tr th:only-of-type {\n",
       "        vertical-align: middle;\n",
       "    }\n",
       "\n",
       "    .dataframe tbody tr th {\n",
       "        vertical-align: top;\n",
       "    }\n",
       "\n",
       "    .dataframe thead th {\n",
       "        text-align: right;\n",
       "    }\n",
       "</style>\n",
       "<table border=\"1\" class=\"dataframe\">\n",
       "  <thead>\n",
       "    <tr style=\"text-align: right;\">\n",
       "      <th></th>\n",
       "      <th>rank</th>\n",
       "      <th>title</th>\n",
       "      <th>author</th>\n",
       "      <th>company</th>\n",
       "      <th>page</th>\n",
       "      <th>date</th>\n",
       "      <th>price</th>\n",
       "    </tr>\n",
       "  </thead>\n",
       "  <tbody>\n",
       "    <tr>\n",
       "      <th>0</th>\n",
       "      <td>1</td>\n",
       "      <td>저주토끼</td>\n",
       "      <td>정보라</td>\n",
       "      <td>아작</td>\n",
       "      <td>328</td>\n",
       "      <td>20220401</td>\n",
       "      <td>13320</td>\n",
       "    </tr>\n",
       "    <tr>\n",
       "      <th>1</th>\n",
       "      <td>2</td>\n",
       "      <td>긴긴밤</td>\n",
       "      <td>루리</td>\n",
       "      <td>문학동네</td>\n",
       "      <td>144</td>\n",
       "      <td>20220401</td>\n",
       "      <td>10350</td>\n",
       "    </tr>\n",
       "    <tr>\n",
       "      <th>2</th>\n",
       "      <td>3</td>\n",
       "      <td>럭키(10만부 기념 황금열쇠 양장 특별판)</td>\n",
       "      <td>김도윤</td>\n",
       "      <td>북로망스</td>\n",
       "      <td>280</td>\n",
       "      <td>20220401</td>\n",
       "      <td>14400</td>\n",
       "    </tr>\n",
       "    <tr>\n",
       "      <th>3</th>\n",
       "      <td>4</td>\n",
       "      <td>꽃샘바람에 흔들린다면 너는 꽃</td>\n",
       "      <td>류시화</td>\n",
       "      <td>수오서재</td>\n",
       "      <td>160</td>\n",
       "      <td>20220401</td>\n",
       "      <td>12150</td>\n",
       "    </tr>\n",
       "    <tr>\n",
       "      <th>4</th>\n",
       "      <td>4</td>\n",
       "      <td>파이어 FIRE</td>\n",
       "      <td>강환국</td>\n",
       "      <td>페이지2북스</td>\n",
       "      <td>428</td>\n",
       "      <td>20220401</td>\n",
       "      <td>16200</td>\n",
       "    </tr>\n",
       "    <tr>\n",
       "      <th>5</th>\n",
       "      <td>4</td>\n",
       "      <td>웰씽킹(10만 부 기념 한정판 골드 에디션)</td>\n",
       "      <td>켈리 최</td>\n",
       "      <td>다산북스</td>\n",
       "      <td>316</td>\n",
       "      <td>20220401</td>\n",
       "      <td>14400</td>\n",
       "    </tr>\n",
       "    <tr>\n",
       "      <th>6</th>\n",
       "      <td>4</td>\n",
       "      <td>불편한 편의점(40만부 기념 벚꽃 에디션)</td>\n",
       "      <td>김호연</td>\n",
       "      <td>나무옆의자</td>\n",
       "      <td>268</td>\n",
       "      <td>20220401</td>\n",
       "      <td>12600</td>\n",
       "    </tr>\n",
       "    <tr>\n",
       "      <th>7</th>\n",
       "      <td>8</td>\n",
       "      <td>김학렬의 부동산 투자 절대 원칙</td>\n",
       "      <td>김학렬(빠숑)</td>\n",
       "      <td>에프엔미디어</td>\n",
       "      <td>540</td>\n",
       "      <td>20220401</td>\n",
       "      <td>22500</td>\n",
       "    </tr>\n",
       "    <tr>\n",
       "      <th>8</th>\n",
       "      <td>9</td>\n",
       "      <td>파이어족 강환국의 하면 된다! 퀀트 투자</td>\n",
       "      <td>강환국</td>\n",
       "      <td>에프엔미디어</td>\n",
       "      <td>392</td>\n",
       "      <td>20220401</td>\n",
       "      <td>16830</td>\n",
       "    </tr>\n",
       "    <tr>\n",
       "      <th>9</th>\n",
       "      <td>10</td>\n",
       "      <td>나의 투자는 새벽 4시에 시작된다</td>\n",
       "      <td>유목민</td>\n",
       "      <td>리더스북</td>\n",
       "      <td>386</td>\n",
       "      <td>20220401</td>\n",
       "      <td>17820</td>\n",
       "    </tr>\n",
       "    <tr>\n",
       "      <th>10</th>\n",
       "      <td>10</td>\n",
       "      <td>위대한 국민의 나라</td>\n",
       "      <td>문재인대통령 비서실</td>\n",
       "      <td>한스미디어</td>\n",
       "      <td>492</td>\n",
       "      <td>20220401</td>\n",
       "      <td>18000</td>\n",
       "    </tr>\n",
       "    <tr>\n",
       "      <th>11</th>\n",
       "      <td>10</td>\n",
       "      <td>머니 체인저</td>\n",
       "      <td>문준희</td>\n",
       "      <td>마인드셋(Mindset)</td>\n",
       "      <td>284</td>\n",
       "      <td>20220401</td>\n",
       "      <td>14400</td>\n",
       "    </tr>\n",
       "    <tr>\n",
       "      <th>12</th>\n",
       "      <td>10</td>\n",
       "      <td>지리의 힘 2</td>\n",
       "      <td>팀 마샬</td>\n",
       "      <td>사이</td>\n",
       "      <td>472</td>\n",
       "      <td>20220401</td>\n",
       "      <td>20700</td>\n",
       "    </tr>\n",
       "    <tr>\n",
       "      <th>13</th>\n",
       "      <td>10</td>\n",
       "      <td>세계 헤어웨어 이야기</td>\n",
       "      <td>원종훈, 김영휴</td>\n",
       "      <td>아마존북스</td>\n",
       "      <td>328</td>\n",
       "      <td>20220401</td>\n",
       "      <td>15300</td>\n",
       "    </tr>\n",
       "    <tr>\n",
       "      <th>14</th>\n",
       "      <td>10</td>\n",
       "      <td>ETS 토익 정기시험 기출문제집 1000 Vol 3 READING(리딩)</td>\n",
       "      <td>ETS</td>\n",
       "      <td>YBM</td>\n",
       "      <td>216</td>\n",
       "      <td>20220401</td>\n",
       "      <td>16020</td>\n",
       "    </tr>\n",
       "  </tbody>\n",
       "</table>\n",
       "</div>"
      ],
      "text/plain": [
       "    rank                                     title      author        company  \\\n",
       "0      1                                      저주토끼         정보라             아작   \n",
       "1      2                                       긴긴밤          루리           문학동네   \n",
       "2      3                   럭키(10만부 기념 황금열쇠 양장 특별판)         김도윤           북로망스   \n",
       "3      4                          꽃샘바람에 흔들린다면 너는 꽃         류시화           수오서재   \n",
       "4      4                                  파이어 FIRE         강환국         페이지2북스   \n",
       "5      4                  웰씽킹(10만 부 기념 한정판 골드 에디션)        켈리 최           다산북스   \n",
       "6      4                   불편한 편의점(40만부 기념 벚꽃 에디션)         김호연          나무옆의자   \n",
       "7      8                         김학렬의 부동산 투자 절대 원칙     김학렬(빠숑)         에프엔미디어   \n",
       "8      9                    파이어족 강환국의 하면 된다! 퀀트 투자         강환국         에프엔미디어   \n",
       "9     10                        나의 투자는 새벽 4시에 시작된다         유목민           리더스북   \n",
       "10    10                                위대한 국민의 나라  문재인대통령 비서실          한스미디어   \n",
       "11    10                                    머니 체인저         문준희  마인드셋(Mindset)   \n",
       "12    10                                   지리의 힘 2        팀 마샬             사이   \n",
       "13    10                               세계 헤어웨어 이야기    원종훈, 김영휴          아마존북스   \n",
       "14    10  ETS 토익 정기시험 기출문제집 1000 Vol 3 READING(리딩)         ETS            YBM   \n",
       "\n",
       "   page      date  price  \n",
       "0   328  20220401  13320  \n",
       "1   144  20220401  10350  \n",
       "2   280  20220401  14400  \n",
       "3   160  20220401  12150  \n",
       "4   428  20220401  16200  \n",
       "5   316  20220401  14400  \n",
       "6   268  20220401  12600  \n",
       "7   540  20220401  22500  \n",
       "8   392  20220401  16830  \n",
       "9   386  20220401  17820  \n",
       "10  492  20220401  18000  \n",
       "11  284  20220401  14400  \n",
       "12  472  20220401  20700  \n",
       "13  328  20220401  15300  \n",
       "14  216  20220401  16020  "
      ]
     },
     "execution_count": 137,
     "metadata": {},
     "output_type": "execute_result"
    }
   ],
   "source": [
    "site = 'http://book.interpark.com'\n",
    "url='http://book.interpark.com/display/collectlist.do?_method=bestsellerHourNew&bookblockname=b_gnb&booklinkname=%BA%A3%BD%BA%C6%AE%C1%B8&bid1=w_bgnb&bid2=LiveRanking&bid3=main&bid4=001'\n",
    "req = requests.get(url)\n",
    "soup = BeautifulSoup(req.text, 'html.parser')\n",
    "lis = soup.select('.rankBestContentList > ol > li')\n",
    "lines = []\n",
    "\n",
    "for li in lis:\n",
    "    href = li.select_one('.coverImage').find('a')['href']\n",
    "    title = li.select_one('.itemName').getText().strip()\n",
    "    #author = li.select_one('.author').getText().strip()\n",
    "    company = li.select_one('.company').getText().strip()\n",
    "    price = int(li.select_one('.price > em').get_text().replace(',',''))\n",
    "    rank = li.select('.rankBtn_ctrl')\n",
    "    rank_n = ''\n",
    "    for r in rank:\n",
    "        rank_n += r.get_attribute_list('class')[1][-1]\n",
    "    rank_n = int(rank_n)\n",
    "    \n",
    "    url = site + href\n",
    "    res = requests.get(url)\n",
    "    sub_soup = BeautifulSoup(res.text, 'html.parser')\n",
    "    sub_lis = sub_soup.select('.bInfo_txt > li')\n",
    "    for li in sub_lis:\n",
    "        text = li.getText().strip()\n",
    "        if '발행 :' in text:\n",
    "            date = text.split(':')[1].strip()\n",
    "            date = re.sub('[^0-9]', '', data)\n",
    "        elif '쪽수 :' in text:\n",
    "            page = text.split(':')[1].strip()\n",
    "        elif '저 :' in text:\n",
    "            author = text.split(':')[1].strip()\n",
    "    lines.append([rank_n, title, author, company, page, date, price])\n",
    "\n",
    "df=pd.DataFrame(lines, columns=['rank', 'title', 'author', 'company', 'page', 'date', 'price'])\n",
    "df\n",
    "    "
   ]
  },
  {
   "cell_type": "code",
   "execution_count": 130,
   "metadata": {},
   "outputs": [
    {
     "name": "stdout",
     "output_type": "stream",
     "text": [
      " 정보라\n",
      "출판사 \n",
      "결과 :  20220401 392 최태성\n"
     ]
    }
   ],
   "source": []
  },
  {
   "cell_type": "code",
   "execution_count": null,
   "metadata": {},
   "outputs": [],
   "source": []
  }
 ],
 "metadata": {
  "interpreter": {
   "hash": "27cc1592400a49e29347d731bddc25ead99330001d369613af25ccd9674a593a"
  },
  "kernelspec": {
   "display_name": "Python 3.9.7 ('base')",
   "language": "python",
   "name": "python3"
  },
  "language_info": {
   "codemirror_mode": {
    "name": "ipython",
    "version": 3
   },
   "file_extension": ".py",
   "mimetype": "text/x-python",
   "name": "python",
   "nbconvert_exporter": "python",
   "pygments_lexer": "ipython3",
   "version": "3.9.7"
  },
  "orig_nbformat": 4
 },
 "nbformat": 4,
 "nbformat_minor": 2
}
