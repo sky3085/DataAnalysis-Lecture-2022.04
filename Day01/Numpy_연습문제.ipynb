{
 "cells": [
  {
   "cell_type": "code",
   "execution_count": 3,
   "metadata": {},
   "outputs": [],
   "source": [
    "import numpy as np"
   ]
  },
  {
   "cell_type": "markdown",
   "metadata": {},
   "source": [
    "<pre>1. 넘파이를 사용하여 다음과 같은 행렬을 만드시오.\n",
    "10 20 30 40\n",
    "50 60 70 80\n",
    "</pre>"
   ]
  },
  {
   "cell_type": "code",
   "execution_count": 8,
   "metadata": {},
   "outputs": [
    {
     "data": {
      "text/plain": [
       "array([[10, 20, 30, 40],\n",
       "       [50, 60, 70, 80]])"
      ]
     },
     "execution_count": 8,
     "metadata": {},
     "output_type": "execute_result"
    }
   ],
   "source": [
    "np.array(([10,20,30,40],[50,60,70,80]), int)\n",
    "np.arange(10,90,10).reshape(2,4)"
   ]
  },
  {
   "cell_type": "markdown",
   "metadata": {},
   "source": [
    "<pre>\n",
    "2. 다음 행렬과 같은 행렬이 있다.\n",
    "m = np.array([[ 0, 1, 2, 3, 4],\n",
    " [ 5, 6, 7, 8, 9],\n",
    " [10, 11, 12, 13, 14]])\n",
    "1) 이 행렬에서 값 7 을 인덱싱한다.\n",
    "2) 이 행렬에서 값 14 을 인덱싱한다.\n",
    "3) 이 행렬에서 배열 [6, 7] 을 슬라이싱한다.\n",
    "4) 이 행렬에서 배열 [7, 12] 을 슬라이싱한다.\n",
    "5) 이 행렬에서 배열 [[3, 4], [8, 9]] 을 슬라이싱한다.\n",
    "</pre>"
   ]
  },
  {
   "cell_type": "code",
   "execution_count": 10,
   "metadata": {},
   "outputs": [
    {
     "data": {
      "text/plain": [
       "7"
      ]
     },
     "execution_count": 10,
     "metadata": {},
     "output_type": "execute_result"
    }
   ],
   "source": [
    "m = np.array([[ 0, 1, 2, 3, 4], [ 5, 6, 7, 8, 9], [10, 11, 12, 13, 14]])\n",
    "#1\n",
    "m[1][2]"
   ]
  },
  {
   "cell_type": "code",
   "execution_count": 11,
   "metadata": {},
   "outputs": [
    {
     "data": {
      "text/plain": [
       "14"
      ]
     },
     "execution_count": 11,
     "metadata": {},
     "output_type": "execute_result"
    }
   ],
   "source": [
    "#2\n",
    "m[-1][-1]"
   ]
  },
  {
   "cell_type": "code",
   "execution_count": 12,
   "metadata": {},
   "outputs": [
    {
     "data": {
      "text/plain": [
       "(array([6, 7]), array([6, 7]))"
      ]
     },
     "execution_count": 12,
     "metadata": {},
     "output_type": "execute_result"
    }
   ],
   "source": [
    "#3\n",
    "m[1][1:3], m[1,1:3]"
   ]
  },
  {
   "cell_type": "code",
   "execution_count": 26,
   "metadata": {},
   "outputs": [
    {
     "data": {
      "text/plain": [
       "array([ 7, 12])"
      ]
     },
     "execution_count": 26,
     "metadata": {},
     "output_type": "execute_result"
    }
   ],
   "source": [
    "m[1:3,2]"
   ]
  },
  {
   "cell_type": "code",
   "execution_count": 13,
   "metadata": {},
   "outputs": [
    {
     "data": {
      "text/plain": [
       "(array([[3, 4],\n",
       "        [8, 9]]),\n",
       " array([[3, 4],\n",
       "        [8, 9]]))"
      ]
     },
     "execution_count": 13,
     "metadata": {},
     "output_type": "execute_result"
    }
   ],
   "source": [
    "m[0:2,-2:len(m[0])], m[0:2,-2:]"
   ]
  },
  {
   "cell_type": "markdown",
   "metadata": {},
   "source": [
    "<pre>3. 2번의 행렬 m을 1차원 벡터 f 로 변환한 후 다음의 문제를 푸시오.\n",
    "1) 이 배열에서 3의 배수를 찾아라.\n",
    "2) 이 배열에서 4로 나누면 1이 남는 수를 찾아라.\n",
    "3) 이 배열에서 3으로 나누면 나누어지고 4로 나누면 1이 남는 수를 찾아라.</pre>\n"
   ]
  },
  {
   "cell_type": "code",
   "execution_count": 60,
   "metadata": {},
   "outputs": [
    {
     "data": {
      "text/plain": [
       "array([ 0,  3,  6,  9, 12])"
      ]
     },
     "execution_count": 60,
     "metadata": {},
     "output_type": "execute_result"
    }
   ],
   "source": [
    "m = m.reshape(1,-1)\n",
    "#1\n",
    "m[m%3==0]"
   ]
  },
  {
   "cell_type": "code",
   "execution_count": 61,
   "metadata": {},
   "outputs": [
    {
     "data": {
      "text/plain": [
       "array([ 1,  5,  9, 13])"
      ]
     },
     "execution_count": 61,
     "metadata": {},
     "output_type": "execute_result"
    }
   ],
   "source": [
    "#2\n",
    "m[m%4==1]"
   ]
  },
  {
   "cell_type": "code",
   "execution_count": 62,
   "metadata": {},
   "outputs": [
    {
     "data": {
      "text/plain": [
       "array([9])"
      ]
     },
     "execution_count": 62,
     "metadata": {},
     "output_type": "execute_result"
    }
   ],
   "source": [
    "#3\n",
    "m[np.logical_and(m%3==0, m%4==1)]"
   ]
  },
  {
   "cell_type": "markdown",
   "metadata": {},
   "source": [
    "<pre>4. 값을 직접 입력하지 말고\n",
    "우측의 행렬을 만드시오.\n",
    "2, 1, 0, 0, 0\n",
    "3, 2, 1, 0, 0\n",
    "0, 3, 2, 1, 0\n",
    "0, 0, 3, 2, 1\n",
    "0, 0, 0, 3, 2\n",
    "</pre>"
   ]
  },
  {
   "cell_type": "code",
   "execution_count": 68,
   "metadata": {},
   "outputs": [
    {
     "data": {
      "text/plain": [
       "array([[2, 1, 0, 0, 0],\n",
       "       [3, 2, 1, 0, 0],\n",
       "       [0, 3, 2, 1, 0],\n",
       "       [0, 0, 3, 2, 1],\n",
       "       [0, 0, 0, 3, 2]])"
      ]
     },
     "execution_count": 68,
     "metadata": {},
     "output_type": "execute_result"
    }
   ],
   "source": [
    "a=np.identity(5, dtype=int)*2+np.eye(5, 5,k=1, dtype=int)+np.eye(5, 5,k=-1, dtype=int)*3\n",
    "a"
   ]
  },
  {
   "cell_type": "markdown",
   "metadata": {},
   "source": [
    "<pre>5. 0에서 10까지 랜덤 실수값으로 이루어진 5 x 6 형태의 데이터 행렬을 만들고 이 데이터에\n",
    "대해 다음과 같은 값을 구하시오.\n",
    "1) 전체의 최댓값\n",
    "2) 각 행의 합\n",
    "3) 각 행의 최댓값\n",
    "4) 각 열의 평균\n",
    "5) 각 열의 최솟값</pre>"
   ]
  },
  {
   "cell_type": "code",
   "execution_count": 14,
   "metadata": {},
   "outputs": [
    {
     "data": {
      "text/plain": [
       "array([[8.318 , 5.023 , 7.0685, 1.177 , 8.74  , 6.8179],\n",
       "       [7.7341, 2.8457, 9.6991, 5.5067, 7.2152, 4.8056],\n",
       "       [5.1956, 5.0957, 8.5505, 7.4433, 7.1038, 5.0077],\n",
       "       [1.326 , 4.106 , 0.5447, 2.7194, 8.7295, 9.0071],\n",
       "       [3.7642, 5.7552, 6.3604, 0.3099, 9.1405, 2.8752]])"
      ]
     },
     "execution_count": 14,
     "metadata": {},
     "output_type": "execute_result"
    }
   ],
   "source": [
    "a=np.random.rand(30).reshape(5,6) * 10\n",
    "a=np.random.uniform(0,10,30).reshape(5,6).round(4)\n",
    "a"
   ]
  },
  {
   "cell_type": "code",
   "execution_count": 80,
   "metadata": {},
   "outputs": [
    {
     "data": {
      "text/plain": [
       "9.890691714942879"
      ]
     },
     "execution_count": 80,
     "metadata": {},
     "output_type": "execute_result"
    }
   ],
   "source": [
    "#1\n",
    "a.max()"
   ]
  },
  {
   "cell_type": "code",
   "execution_count": 82,
   "metadata": {},
   "outputs": [
    {
     "data": {
      "text/plain": [
       "array([26.32504944, 26.36714371, 30.23995893, 33.82009777, 29.5056322 ])"
      ]
     },
     "execution_count": 82,
     "metadata": {},
     "output_type": "execute_result"
    }
   ],
   "source": [
    "#2\n",
    "a.sum(axis=1)"
   ]
  },
  {
   "cell_type": "code",
   "execution_count": 83,
   "metadata": {},
   "outputs": [
    {
     "data": {
      "text/plain": [
       "array([6.1699292 , 7.94970234, 9.11947297, 9.89069171, 8.33637263])"
      ]
     },
     "execution_count": 83,
     "metadata": {},
     "output_type": "execute_result"
    }
   ],
   "source": [
    "#3\n",
    "a.max(axis=1)"
   ]
  },
  {
   "cell_type": "code",
   "execution_count": 84,
   "metadata": {},
   "outputs": [
    {
     "data": {
      "text/plain": [
       "array([4.46899884, 6.04798994, 1.82101794, 6.20066494, 5.49153139,\n",
       "       5.22137336])"
      ]
     },
     "execution_count": 84,
     "metadata": {},
     "output_type": "execute_result"
    }
   ],
   "source": [
    "a.mean(axis=0)"
   ]
  },
  {
   "cell_type": "code",
   "execution_count": 85,
   "metadata": {},
   "outputs": [
    {
     "data": {
      "text/plain": [
       "array([0.90977337, 3.37088855, 0.37187166, 0.92566671, 2.55551493,\n",
       "       2.81843126])"
      ]
     },
     "execution_count": 85,
     "metadata": {},
     "output_type": "execute_result"
    }
   ],
   "source": [
    "a.min(axis=0)"
   ]
  },
  {
   "cell_type": "markdown",
   "metadata": {},
   "source": [
    "<pre>6. 다음 배열은 첫번째 행(row)에 학번, 두번째 행에 영어 성적, 세번째 행에 수학 성적을 적은\n",
    "배열이다. 영어 성적을 기준으로 각 열(column)을 재정렬하시오.\n",
    "array([[ 1, 2, 3, 4],\n",
    " [ 46, 99, 100, 71],\n",
    " [ 81, 59, 90, 100]])\n",
    "</pre>"
   ]
  },
  {
   "cell_type": "code",
   "execution_count": 15,
   "metadata": {},
   "outputs": [
    {
     "data": {
      "text/plain": [
       "array([[  4,   3,   1,   2],\n",
       "       [ 71, 100,  46,  99],\n",
       "       [100,  90,  81,  59]])"
      ]
     },
     "execution_count": 15,
     "metadata": {},
     "output_type": "execute_result"
    }
   ],
   "source": [
    "c=np.array([[ 1, 2, 3, 4], [ 46, 99, 100, 71], [ 81, 59, 90, 100]])\n",
    "\n",
    "c[:,np.argsort(c[2])[::-1]]"
   ]
  },
  {
   "cell_type": "markdown",
   "metadata": {},
   "source": [
    "<pre>7. 주사위를 100번 던지는 가상 실험을 파이썬으로 작성하고, \n",
    "던져서 나오는 숫자의 평균을 구하시오.\n",
    "</pre>"
   ]
  },
  {
   "cell_type": "code",
   "execution_count": 20,
   "metadata": {},
   "outputs": [
    {
     "data": {
      "text/plain": [
       "3.38"
      ]
     },
     "execution_count": 20,
     "metadata": {},
     "output_type": "execute_result"
    }
   ],
   "source": [
    "np.random.randint(1,7,100).mean()"
   ]
  },
  {
   "cell_type": "markdown",
   "metadata": {},
   "source": [
    "<pre>8. 가격이 10,000원인 주식이 있다. 이 주식의 일간 수익률(%)은 기댓값이 0%이고 표준편차가 1%\n",
    "인 표준 정규 분포를 따른다고 하자. 250일 동안의 주가를 무작위로 생성하시오.\n",
    "</pre>"
   ]
  },
  {
   "cell_type": "code",
   "execution_count": 18,
   "metadata": {},
   "outputs": [
    {
     "name": "stdout",
     "output_type": "stream",
     "text": [
      "[9904.2106, 9868.0345, 9917.6826, 9913.4697, 10004.2797, 10035.8544, 10039.4448, 10130.9513, 10231.9634, 10225.9402, 10249.5344, 10325.7679, 10276.0739, 10265.7145, 10180.9794, 10146.6634, 10203.5022, 10272.4638, 10219.8525, 10209.0901, 10303.6894, 10318.9643, 10257.8665, 10253.6277, 10328.434, 10344.0782, 10401.1243, 10340.2744, 10420.2534, 10483.8427, 10436.5334, 10394.6955, 10435.1512, 10522.1796, 10431.0256, 10426.2737, 10410.9105, 10469.6951, 10573.6179, 10493.7936, 10543.8351, 10609.3717, 10707.9488, 10636.077, 10638.6864, 10732.386, 10626.7307, 10537.338, 10613.4283, 10530.8076, 10550.2669, 10615.6568, 10586.7291, 10626.619, 10556.4888, 10637.7752, 10577.0241, 10665.0343, 10584.2838, 10598.524, 10624.8359, 10599.2054, 10635.0401, 10602.6834, 10677.6849, 10759.1812, 10770.8359, 10683.8901, 10768.6108, 10730.1712, 10718.5077, 10647.1058, 10689.9915, 10694.5028, 10637.7601, 10694.4891, 10669.6218, 10608.8275, 10623.6205, 10530.3284, 10426.5673, 10483.2074, 10574.5061, 10568.3126, 10488.099, 10553.1541, 10656.5294, 10744.5043, 10687.3303, 10607.7943, 10531.7108, 10516.4273, 10449.9194, 10498.4095, 10506.6936, 10525.7765, 10444.0984, 10450.4787, 10450.2542, 10391.7793, 10378.0843, 10409.8687, 10426.3666, 10352.6272, 10371.0677, 10405.1464, 10352.81, 10427.1137, 10389.0221, 10393.4341, 10395.2726, 10490.4424, 10518.2781, 10531.6893, 10570.0582, 10497.5057, 10491.1419, 10412.6888, 10428.9355, 10413.3667, 10407.9076, 10433.6534, 10365.0946, 10437.9104, 10351.5481, 10340.9825, 10441.3139, 10376.2327, 10327.8593, 10271.995, 10225.5498, 10275.9246, 10311.3304, 10303.6763, 10271.7036, 10171.5678, 10256.9927, 10350.8278, 10350.2224, 10306.9271, 10243.4965, 10255.2117, 10196.1417, 10225.2545, 10278.7347, 10370.2516, 10352.3441, 10383.2766, 10436.3113, 10414.3211, 10406.0714, 10433.6918, 10505.6374, 10473.8233, 10570.0685, 10548.9923, 10556.6681, 10583.8224, 10525.6532, 10497.0602, 10443.947, 10360.5951, 10380.3323, 10459.9533, 10550.4566, 10576.9434, 10613.2095, 10580.4681, 10505.6557, 10489.6663, 10556.3299, 10483.0659, 10424.8217, 10411.36, 10338.5673, 10355.7641, 10425.4117, 10474.2249, 10403.226, 10414.9884, 10386.9432, 10397.7374, 10494.0152, 10416.0632, 10428.1748, 10495.5923, 10417.4084, 10383.1462, 10373.823, 10395.6567, 10492.323, 10490.1574, 10538.3049, 10500.5881, 10439.2893, 10394.1323, 10392.6851, 10477.4412, 10496.1308, 10588.966, 10574.5141, 10571.2719, 10526.5925, 10593.0926, 10561.0576, 10523.7905, 10578.014, 10598.0898, 10520.3131, 10456.0447, 10546.5092, 10627.186, 10724.2926, 10758.0648, 10852.8715, 10773.0289, 10762.9564, 10864.3435, 10918.1898, 10827.0979, 10817.6302, 10785.6213, 10773.8512, 10750.0705, 10668.3262, 10713.077, 10712.7898, 10790.2428, 10784.2109, 10884.1743, 10808.7718, 10725.1374, 10767.8618, 10772.1305, 10735.6336, 10714.9311, 10687.8833, 10767.2876, 10671.4253, 10700.7853, 10685.3626, 10640.8853, 10698.4897, 10671.2778, 10761.336, 10708.556, 10713.9382, 10675.5349, 10648.5488, 10601.4637]\n"
     ]
    }
   ],
   "source": [
    "a=np.random.uniform(-1.0,1.0,250)\n",
    "stock=10000.0\n",
    "answer = []\n",
    "for i in a:\n",
    "    stock=stock+(stock*i/100)\n",
    "    answer.append(stock.round(4))\n",
    "print(answer)"
   ]
  },
  {
   "cell_type": "code",
   "execution_count": null,
   "metadata": {},
   "outputs": [],
   "source": []
  }
 ],
 "metadata": {
  "interpreter": {
   "hash": "27cc1592400a49e29347d731bddc25ead99330001d369613af25ccd9674a593a"
  },
  "kernelspec": {
   "display_name": "Python 3.9.7 ('base')",
   "language": "python",
   "name": "python3"
  },
  "language_info": {
   "codemirror_mode": {
    "name": "ipython",
    "version": 3
   },
   "file_extension": ".py",
   "mimetype": "text/x-python",
   "name": "python",
   "nbconvert_exporter": "python",
   "pygments_lexer": "ipython3",
   "version": "3.9.7"
  },
  "orig_nbformat": 4
 },
 "nbformat": 4,
 "nbformat_minor": 2
}
