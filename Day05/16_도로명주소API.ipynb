{
 "cells": [
  {
   "cell_type": "markdown",
   "metadata": {},
   "source": [
    "### 행안부 도로명주소 API 활용"
   ]
  },
  {
   "cell_type": "code",
   "execution_count": 1,
   "metadata": {},
   "outputs": [],
   "source": [
    "import requests\n",
    "from urllib.parse import quote"
   ]
  },
  {
   "cell_type": "markdown",
   "metadata": {},
   "source": [
    "- API key 가져오기"
   ]
  },
  {
   "cell_type": "code",
   "execution_count": 30,
   "metadata": {},
   "outputs": [
    {
     "data": {
      "text/plain": [
       "'devU01TX0FVVEgyMDIyMDQxMzExNTQyMjExMjQ1OTc='"
      ]
     },
     "execution_count": 30,
     "metadata": {},
     "output_type": "execute_result"
    }
   ],
   "source": [
    "with open('roadapikey.txt') as file:\n",
    "    road_key = file.read()\n",
    "road_key"
   ]
  },
  {
   "cell_type": "markdown",
   "metadata": {},
   "source": [
    "- URL 만들기\n"
   ]
  },
  {
   "cell_type": "code",
   "execution_count": 31,
   "metadata": {},
   "outputs": [
    {
     "data": {
      "text/plain": [
       "'%EC%84%9C%EC%B4%88%EA%B5%AC%EC%B2%AD'"
      ]
     },
     "execution_count": 31,
     "metadata": {},
     "output_type": "execute_result"
    }
   ],
   "source": [
    "#한글은 인코딩\n",
    "quote(\"서초구청\")"
   ]
  },
  {
   "cell_type": "code",
   "execution_count": 43,
   "metadata": {},
   "outputs": [],
   "source": [
    "road_url = 'https://www.juso.go.kr/addrlink/addrLinkApiJsonp.do'\n",
    "params1 = f'confmKey={road_key}&currentPage=1&countPerPage=10'\n",
    "params2 = f\"keyword={quote('서초구청')}&resultType=json\"\n",
    "url = f'{road_url}?{params1}&{params2}'"
   ]
  },
  {
   "cell_type": "code",
   "execution_count": 47,
   "metadata": {},
   "outputs": [
    {
     "data": {
      "text/plain": [
       "200"
      ]
     },
     "execution_count": 47,
     "metadata": {},
     "output_type": "execute_result"
    }
   ],
   "source": [
    "result = requests.get(url)\n",
    "result.status_code"
   ]
  },
  {
   "cell_type": "markdown",
   "metadata": {},
   "source": [
    "- 정상적인 경우의 코딩\n",
    "<pre>\n",
    "result = requests.get(url).json()\n",
    "</pre>"
   ]
  },
  {
   "cell_type": "code",
   "execution_count": 48,
   "metadata": {},
   "outputs": [
    {
     "data": {
      "text/plain": [
       "{'results': {'common': {'errorMessage': '정상',\n",
       "   'countPerPage': '10',\n",
       "   'totalCount': '3',\n",
       "   'errorCode': '0',\n",
       "   'currentPage': '1'},\n",
       "  'juso': [{'detBdNmList': '본관동,보건소,여권민원실',\n",
       "    'engAddr': '2584, Nambusunhwan-ro, Seocho-gu, Seoul',\n",
       "    'rn': '남부순환로',\n",
       "    'emdNm': '서초동',\n",
       "    'zipNo': '06750',\n",
       "    'roadAddrPart2': '(서초동)',\n",
       "    'emdNo': '03',\n",
       "    'sggNm': '서초구',\n",
       "    'jibunAddr': '서울특별시 서초구 서초동 1376-3 서초구청, 서초구의회',\n",
       "    'siNm': '서울특별시',\n",
       "    'roadAddrPart1': '서울특별시 서초구 남부순환로 2584',\n",
       "    'bdNm': '서초구청, 서초구의회',\n",
       "    'admCd': '1165010800',\n",
       "    'udrtYn': '0',\n",
       "    'lnbrMnnm': '1376',\n",
       "    'roadAddr': '서울특별시 서초구 남부순환로 2584(서초동)',\n",
       "    'lnbrSlno': '3',\n",
       "    'buldMnnm': '2584',\n",
       "    'bdKdcd': '0',\n",
       "    'liNm': '',\n",
       "    'rnMgtSn': '116502000003',\n",
       "    'mtYn': '0',\n",
       "    'bdMgtSn': '1165010800113760003000001',\n",
       "    'buldSlno': '0'},\n",
       "   {'detBdNmList': '',\n",
       "    'engAddr': '46, Nambusunhwan-ro 347-gil, Seocho-gu, Seoul',\n",
       "    'rn': '남부순환로347길',\n",
       "    'emdNm': '서초동',\n",
       "    'zipNo': '06730',\n",
       "    'roadAddrPart2': '(서초동)',\n",
       "    'emdNo': '01',\n",
       "    'sggNm': '서초구',\n",
       "    'jibunAddr': '서울특별시 서초구 서초동 1360-26 서초구청 직장어린이집',\n",
       "    'siNm': '서울특별시',\n",
       "    'roadAddrPart1': '서울특별시 서초구 남부순환로347길 46',\n",
       "    'bdNm': '서초구청 직장어린이집',\n",
       "    'admCd': '1165010800',\n",
       "    'udrtYn': '0',\n",
       "    'lnbrMnnm': '1360',\n",
       "    'roadAddr': '서울특별시 서초구 남부순환로347길 46(서초동)',\n",
       "    'lnbrSlno': '26',\n",
       "    'buldMnnm': '46',\n",
       "    'bdKdcd': '0',\n",
       "    'liNm': '',\n",
       "    'rnMgtSn': '116504163084',\n",
       "    'mtYn': '0',\n",
       "    'bdMgtSn': '1165010800113600026000001',\n",
       "    'buldSlno': '0'},\n",
       "   {'detBdNmList': '세차장,적환장,탈취실,옥외변전실',\n",
       "    'engAddr': '73-19, Yangjae-daero 12-gil, Seocho-gu, Seoul',\n",
       "    'rn': '양재대로12길',\n",
       "    'emdNm': '원지동',\n",
       "    'zipNo': '06803',\n",
       "    'roadAddrPart2': '(원지동)',\n",
       "    'emdNo': '02',\n",
       "    'sggNm': '서초구',\n",
       "    'jibunAddr': '서울특별시 서초구 원지동 23 서초구청소종합시설',\n",
       "    'siNm': '서울특별시',\n",
       "    'roadAddrPart1': '서울특별시 서초구 양재대로12길 73-19',\n",
       "    'bdNm': '서초구청소종합시설',\n",
       "    'admCd': '1165010400',\n",
       "    'udrtYn': '0',\n",
       "    'lnbrMnnm': '23',\n",
       "    'roadAddr': '서울특별시 서초구 양재대로12길 73-19(원지동)',\n",
       "    'lnbrSlno': '0',\n",
       "    'buldMnnm': '73',\n",
       "    'bdKdcd': '0',\n",
       "    'liNm': '',\n",
       "    'rnMgtSn': '116504163470',\n",
       "    'mtYn': '0',\n",
       "    'bdMgtSn': '1165010400100230000004528',\n",
       "    'buldSlno': '19'}]}}"
      ]
     },
     "execution_count": 48,
     "metadata": {},
     "output_type": "execute_result"
    }
   ],
   "source": [
    "import json\n",
    "res = json.loads(result.text[1:-1])\n",
    "res"
   ]
  },
  {
   "cell_type": "code",
   "execution_count": 50,
   "metadata": {},
   "outputs": [
    {
     "data": {
      "text/plain": [
       "'({\"results\":{\"common\":{\"errorMessage\":\"정상\",\"countPerPage\":\"10\",\"totalCount\":\"3\",\"errorCode\":\"0\",\"currentPage\":\"1\"},\"juso\":[{\"detBdNmList\":\"본관동,보건소,여권민원실\",\"engAddr\":\"2584, Nambusunhwan-ro, Seocho-gu, Seoul\",\"rn\":\"남부순환로\",\"emdNm\":\"서초동\",\"zipNo\":\"06750\",\"roadAddrPart2\":\"(서초동)\",\"emdNo\":\"03\",\"sggNm\":\"서초구\",\"jibunAddr\":\"서울특별시 서초구 서초동 1376-3 서초구청, 서초구의회\",\"siNm\":\"서울특별시\",\"roadAddrPart1\":\"서울특별시 서초구 남부순환로 2584\",\"bdNm\":\"서초구청, 서초구의회\",\"admCd\":\"1165010800\",\"udrtYn\":\"0\",\"lnbrMnnm\":\"1376\",\"roadAddr\":\"서울특별시 서초구 남부순환로 2584(서초동)\",\"lnbrSlno\":\"3\",\"buldMnnm\":\"2584\",\"bdKdcd\":\"0\",\"liNm\":\"\",\"rnMgtSn\":\"116502000003\",\"mtYn\":\"0\",\"bdMgtSn\":\"1165010800113760003000001\",\"buldSlno\":\"0\"},{\"detBdNmList\":\"\",\"engAddr\":\"46, Nambusunhwan-ro 347-gil, Seocho-gu, Seoul\",\"rn\":\"남부순환로347길\",\"emdNm\":\"서초동\",\"zipNo\":\"06730\",\"roadAddrPart2\":\"(서초동)\",\"emdNo\":\"01\",\"sggNm\":\"서초구\",\"jibunAddr\":\"서울특별시 서초구 서초동 1360-26 서초구청 직장어린이집\",\"siNm\":\"서울특별시\",\"roadAddrPart1\":\"서울특별시 서초구 남부순환로347길 46\",\"bdNm\":\"서초구청 직장어린이집\",\"admCd\":\"1165010800\",\"udrtYn\":\"0\",\"lnbrMnnm\":\"1360\",\"roadAddr\":\"서울특별시 서초구 남부순환로347길 46(서초동)\",\"lnbrSlno\":\"26\",\"buldMnnm\":\"46\",\"bdKdcd\":\"0\",\"liNm\":\"\",\"rnMgtSn\":\"116504163084\",\"mtYn\":\"0\",\"bdMgtSn\":\"1165010800113600026000001\",\"buldSlno\":\"0\"},{\"detBdNmList\":\"세차장,적환장,탈취실,옥외변전실\",\"engAddr\":\"73-19, Yangjae-daero 12-gil, Seocho-gu, Seoul\",\"rn\":\"양재대로12길\",\"emdNm\":\"원지동\",\"zipNo\":\"06803\",\"roadAddrPart2\":\"(원지동)\",\"emdNo\":\"02\",\"sggNm\":\"서초구\",\"jibunAddr\":\"서울특별시 서초구 원지동 23 서초구청소종합시설\",\"siNm\":\"서울특별시\",\"roadAddrPart1\":\"서울특별시 서초구 양재대로12길 73-19\",\"bdNm\":\"서초구청소종합시설\",\"admCd\":\"1165010400\",\"udrtYn\":\"0\",\"lnbrMnnm\":\"23\",\"roadAddr\":\"서울특별시 서초구 양재대로12길 73-19(원지동)\",\"lnbrSlno\":\"0\",\"buldMnnm\":\"73\",\"bdKdcd\":\"0\",\"liNm\":\"\",\"rnMgtSn\":\"116504163470\",\"mtYn\":\"0\",\"bdMgtSn\":\"1165010400100230000004528\",\"buldSlno\":\"19\"}]}})'"
      ]
     },
     "execution_count": 50,
     "metadata": {},
     "output_type": "execute_result"
    }
   ],
   "source": [
    "result.text"
   ]
  },
  {
   "cell_type": "markdown",
   "metadata": {},
   "source": [
    "- res에서 3개의 주소 가져오기"
   ]
  },
  {
   "cell_type": "code",
   "execution_count": 53,
   "metadata": {},
   "outputs": [
    {
     "data": {
      "text/plain": [
       "dict_keys(['results'])"
      ]
     },
     "execution_count": 53,
     "metadata": {},
     "output_type": "execute_result"
    }
   ],
   "source": [
    "res.keys()"
   ]
  },
  {
   "cell_type": "code",
   "execution_count": 63,
   "metadata": {},
   "outputs": [
    {
     "data": {
      "text/plain": [
       "dict_keys(['common', 'juso'])"
      ]
     },
     "execution_count": 63,
     "metadata": {},
     "output_type": "execute_result"
    }
   ],
   "source": [
    "res['results'].keys()"
   ]
  },
  {
   "cell_type": "code",
   "execution_count": 65,
   "metadata": {},
   "outputs": [
    {
     "data": {
      "text/plain": [
       "(3, list)"
      ]
     },
     "execution_count": 65,
     "metadata": {},
     "output_type": "execute_result"
    }
   ],
   "source": [
    "len(res['results']['juso']), type(res['results']['juso'])"
   ]
  },
  {
   "cell_type": "code",
   "execution_count": 62,
   "metadata": {},
   "outputs": [
    {
     "data": {
      "text/plain": [
       "('서울특별시 서초구 남부순환로 2584(서초동)',\n",
       " '서울특별시 서초구 남부순환로347길 46(서초동)',\n",
       " '서울특별시 서초구 양재대로12길 73-19(원지동)')"
      ]
     },
     "execution_count": 62,
     "metadata": {},
     "output_type": "execute_result"
    }
   ],
   "source": [
    "res['results']['juso'][0]['roadAddr'], res['results']['juso'][1]['roadAddr'], res['results']['juso'][2]['roadAddr']"
   ]
  },
  {
   "cell_type": "markdown",
   "metadata": {},
   "source": [
    "- 서초구청, 강남구청, 동작구청, 용산구청, 성동구청"
   ]
  },
  {
   "cell_type": "code",
   "execution_count": 67,
   "metadata": {},
   "outputs": [],
   "source": [
    "road_url = 'https://www.juso.go.kr/addrlink/addrLinkApiJsonp.do'\n",
    "params1 = f'confmKey={road_key}&currentPage=1&countPerPage=10'\n",
    "params2 = f\"keyword={quote('서초구청')}&resultType=json\"\n",
    "url = f'{road_url}?{params1}&{params2}'"
   ]
  },
  {
   "cell_type": "code",
   "execution_count": 70,
   "metadata": {},
   "outputs": [
    {
     "data": {
      "text/plain": [
       "['서울특별시 서초구 남부순환로 2584(서초동)',\n",
       " '서울특별시 강남구 도곡로18길 7(도곡동)',\n",
       " '서울특별시 동작구 장승배기로 161(노량진동)',\n",
       " '서울특별시 용산구 백범로79길 64(청파동3가)',\n",
       " '서울특별시 성동구 고산자로 270(행당동)']"
      ]
     },
     "execution_count": 70,
     "metadata": {},
     "output_type": "execute_result"
    }
   ],
   "source": [
    "places = '서초구청 강남구청 동작구청 용산구청 성동구청'.split()\n",
    "addr_list=[]\n",
    "for place in places:\n",
    "    url=f'{road_url}?{params1}&keyword={quote(place)}&resultType=json'\n",
    "    result=requests.get(url)\n",
    "    res=json.loads(result.text[1:-1])\n",
    "    addr=res['results']['juso'][0]['roadAddr']\n",
    "    addr_list.append(addr)\n",
    "addr_list"
   ]
  },
  {
   "cell_type": "code",
   "execution_count": 72,
   "metadata": {},
   "outputs": [
    {
     "data": {
      "text/html": [
       "<div>\n",
       "<style scoped>\n",
       "    .dataframe tbody tr th:only-of-type {\n",
       "        vertical-align: middle;\n",
       "    }\n",
       "\n",
       "    .dataframe tbody tr th {\n",
       "        vertical-align: top;\n",
       "    }\n",
       "\n",
       "    .dataframe thead th {\n",
       "        text-align: right;\n",
       "    }\n",
       "</style>\n",
       "<table border=\"1\" class=\"dataframe\">\n",
       "  <thead>\n",
       "    <tr style=\"text-align: right;\">\n",
       "      <th></th>\n",
       "      <th>place</th>\n",
       "      <th>roadAddr</th>\n",
       "    </tr>\n",
       "  </thead>\n",
       "  <tbody>\n",
       "    <tr>\n",
       "      <th>0</th>\n",
       "      <td>서초구청,</td>\n",
       "      <td>서울특별시 서초구 남부순환로 2584(서초동)</td>\n",
       "    </tr>\n",
       "    <tr>\n",
       "      <th>1</th>\n",
       "      <td>강남구청,</td>\n",
       "      <td>서울특별시 강남구 도곡로18길 7(도곡동)</td>\n",
       "    </tr>\n",
       "    <tr>\n",
       "      <th>2</th>\n",
       "      <td>동작구청,</td>\n",
       "      <td>서울특별시 동작구 장승배기로 161(노량진동)</td>\n",
       "    </tr>\n",
       "    <tr>\n",
       "      <th>3</th>\n",
       "      <td>용산구청,</td>\n",
       "      <td>서울특별시 용산구 백범로79길 64(청파동3가)</td>\n",
       "    </tr>\n",
       "    <tr>\n",
       "      <th>4</th>\n",
       "      <td>성동구청</td>\n",
       "      <td>서울특별시 성동구 고산자로 270(행당동)</td>\n",
       "    </tr>\n",
       "  </tbody>\n",
       "</table>\n",
       "</div>"
      ],
      "text/plain": [
       "   place                    roadAddr\n",
       "0  서초구청,   서울특별시 서초구 남부순환로 2584(서초동)\n",
       "1  강남구청,     서울특별시 강남구 도곡로18길 7(도곡동)\n",
       "2  동작구청,   서울특별시 동작구 장승배기로 161(노량진동)\n",
       "3  용산구청,  서울특별시 용산구 백범로79길 64(청파동3가)\n",
       "4   성동구청     서울특별시 성동구 고산자로 270(행당동)"
      ]
     },
     "execution_count": 72,
     "metadata": {},
     "output_type": "execute_result"
    }
   ],
   "source": [
    "import pandas as pd\n",
    "df = pd.DataFrame({'place':places, 'roadAddr':addr_list})\n",
    "df"
   ]
  },
  {
   "cell_type": "code",
   "execution_count": 73,
   "metadata": {},
   "outputs": [
    {
     "data": {
      "text/html": [
       "<div>\n",
       "<style scoped>\n",
       "    .dataframe tbody tr th:only-of-type {\n",
       "        vertical-align: middle;\n",
       "    }\n",
       "\n",
       "    .dataframe tbody tr th {\n",
       "        vertical-align: top;\n",
       "    }\n",
       "\n",
       "    .dataframe thead th {\n",
       "        text-align: right;\n",
       "    }\n",
       "</style>\n",
       "<table border=\"1\" class=\"dataframe\">\n",
       "  <thead>\n",
       "    <tr style=\"text-align: right;\">\n",
       "      <th></th>\n",
       "      <th>place</th>\n",
       "      <th>roadAddr</th>\n",
       "    </tr>\n",
       "  </thead>\n",
       "  <tbody>\n",
       "    <tr>\n",
       "      <th>0</th>\n",
       "      <td>서초구청,</td>\n",
       "      <td>서울특별시 서초구 남부순환로 2584(서초동)</td>\n",
       "    </tr>\n",
       "    <tr>\n",
       "      <th>1</th>\n",
       "      <td>강남구청,</td>\n",
       "      <td>서울특별시 강남구 도곡로18길 7(도곡동)</td>\n",
       "    </tr>\n",
       "    <tr>\n",
       "      <th>2</th>\n",
       "      <td>동작구청,</td>\n",
       "      <td>서울특별시 동작구 장승배기로 161(노량진동)</td>\n",
       "    </tr>\n",
       "    <tr>\n",
       "      <th>3</th>\n",
       "      <td>용산구청,</td>\n",
       "      <td>서울특별시 용산구 백범로79길 64(청파동3가)</td>\n",
       "    </tr>\n",
       "    <tr>\n",
       "      <th>4</th>\n",
       "      <td>성동구청</td>\n",
       "      <td>서울특별시 성동구 고산자로 270(행당동)</td>\n",
       "    </tr>\n",
       "  </tbody>\n",
       "</table>\n",
       "</div>"
      ],
      "text/plain": [
       "   place                    roadAddr\n",
       "0  서초구청,   서울특별시 서초구 남부순환로 2584(서초동)\n",
       "1  강남구청,     서울특별시 강남구 도곡로18길 7(도곡동)\n",
       "2  동작구청,   서울특별시 동작구 장승배기로 161(노량진동)\n",
       "3  용산구청,  서울특별시 용산구 백범로79길 64(청파동3가)\n",
       "4   성동구청     서울특별시 성동구 고산자로 270(행당동)"
      ]
     },
     "execution_count": 73,
     "metadata": {},
     "output_type": "execute_result"
    }
   ],
   "source": [
    "df.to_csv('구청_주소.csv',index=False)\n",
    "a = pd.read_csv('구청_주소.csv')\n",
    "a"
   ]
  },
  {
   "cell_type": "code",
   "execution_count": null,
   "metadata": {},
   "outputs": [],
   "source": []
  }
 ],
 "metadata": {
  "interpreter": {
   "hash": "27cc1592400a49e29347d731bddc25ead99330001d369613af25ccd9674a593a"
  },
  "kernelspec": {
   "display_name": "Python 3.9.7 ('base')",
   "language": "python",
   "name": "python3"
  },
  "language_info": {
   "codemirror_mode": {
    "name": "ipython",
    "version": 3
   },
   "file_extension": ".py",
   "mimetype": "text/x-python",
   "name": "python",
   "nbconvert_exporter": "python",
   "pygments_lexer": "ipython3",
   "version": "3.9.7"
  },
  "orig_nbformat": 4
 },
 "nbformat": 4,
 "nbformat_minor": 2
}
